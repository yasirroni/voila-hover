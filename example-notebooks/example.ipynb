{
 "cells": [
  {
   "cell_type": "markdown",
   "metadata": {},
   "source": [
    "# Title of a markdown cell\n",
    "This is the body of a markdown cell."
   ]
  },
  {
   "cell_type": "markdown",
   "metadata": {},
   "source": [
    "![voila-logo](https://raw.githubusercontent.com/voila-dashboards/voila/master/docs/source/voila-logo.svg)"
   ]
  },
  {
   "cell_type": "code",
   "execution_count": 7,
   "metadata": {},
   "outputs": [
    {
     "name": "stdout",
     "output_type": "stream",
     "text": [
      "progressive indentation\n",
      "     progressive indentation\n",
      "          progressive indentation\n",
      "               progressive indentation\n",
      "                    progressive indentation\n",
      "                         progressive indentation\n",
      "                              progressive indentation\n",
      "                                   progressive indentation\n",
      "                                        progressive indentation\n",
      "                                             progressive indentation\n"
     ]
    }
   ],
   "source": [
    "for i in range(10):\n",
    "    print(i*'     ' + 'progressive indentation')"
   ]
  },
  {
   "cell_type": "code",
   "execution_count": null,
   "metadata": {},
   "outputs": [],
   "source": []
  }
 ],
 "metadata": {
  "kernelspec": {
   "display_name": "Python 3",
   "language": "python",
   "name": "python3"
  },
  "language_info": {
   "codemirror_mode": {
    "name": "ipython",
    "version": 3
   },
   "file_extension": ".py",
   "mimetype": "text/x-python",
   "name": "python",
   "nbconvert_exporter": "python",
   "pygments_lexer": "ipython3",
   "version": "3.7.4"
  }
 },
 "nbformat": 4,
 "nbformat_minor": 2
}
